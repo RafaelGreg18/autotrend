{
 "cells": [
  {
   "cell_type": "code",
   "execution_count": 6,
   "id": "e403f2df",
   "metadata": {},
   "outputs": [],
   "source": [
    "import pandas as pd\n",
    "import yfinance\n",
    "import plotly.express as px"
   ]
  },
  {
   "cell_type": "code",
   "execution_count": 43,
   "id": "2567d27b",
   "metadata": {},
   "outputs": [
    {
     "name": "stderr",
     "output_type": "stream",
     "text": [
      "[*********************100%***********************]  1 of 1 completed\n"
     ]
    }
   ],
   "source": [
    "df = yfinance.download(\"AAPL\", start=\"2020-01-01\", end=\"2023-01-01\")"
   ]
  },
  {
   "cell_type": "code",
   "execution_count": 45,
   "id": "b0852c9b",
   "metadata": {},
   "outputs": [],
   "source": [
    "df_copy = df.copy()\n",
    "df_copy.columns = list(col[0] for col in df.columns)\n",
    "#df_copy['Date'] = df_copy.index.astype(str)"
   ]
  },
  {
   "cell_type": "code",
   "execution_count": null,
   "id": "8686ccc5",
   "metadata": {},
   "outputs": [],
   "source": [
    "df_copy['Date'] = df_copy.index.to_str"
   ]
  },
  {
   "cell_type": "code",
   "execution_count": null,
   "id": "bbc79d6c",
   "metadata": {},
   "outputs": [
    {
     "data": {
      "text/html": [
       "<div>\n",
       "<style scoped>\n",
       "    .dataframe tbody tr th:only-of-type {\n",
       "        vertical-align: middle;\n",
       "    }\n",
       "\n",
       "    .dataframe tbody tr th {\n",
       "        vertical-align: top;\n",
       "    }\n",
       "\n",
       "    .dataframe thead th {\n",
       "        text-align: right;\n",
       "    }\n",
       "</style>\n",
       "<table border=\"1\" class=\"dataframe\">\n",
       "  <thead>\n",
       "    <tr style=\"text-align: right;\">\n",
       "      <th></th>\n",
       "      <th>Close</th>\n",
       "      <th>High</th>\n",
       "      <th>Low</th>\n",
       "      <th>Open</th>\n",
       "      <th>Volume</th>\n",
       "      <th>Date</th>\n",
       "    </tr>\n",
       "  </thead>\n",
       "  <tbody>\n",
       "    <tr>\n",
       "      <th>0</th>\n",
       "      <td>72.620850</td>\n",
       "      <td>72.681296</td>\n",
       "      <td>71.373226</td>\n",
       "      <td>71.627100</td>\n",
       "      <td>135480400</td>\n",
       "      <td>2020-01-02</td>\n",
       "    </tr>\n",
       "    <tr>\n",
       "      <th>1</th>\n",
       "      <td>71.914818</td>\n",
       "      <td>72.676447</td>\n",
       "      <td>71.689957</td>\n",
       "      <td>71.847118</td>\n",
       "      <td>146322800</td>\n",
       "      <td>2020-01-03</td>\n",
       "    </tr>\n",
       "    <tr>\n",
       "      <th>2</th>\n",
       "      <td>72.487854</td>\n",
       "      <td>72.526541</td>\n",
       "      <td>70.783256</td>\n",
       "      <td>71.034717</td>\n",
       "      <td>118387200</td>\n",
       "      <td>2020-01-06</td>\n",
       "    </tr>\n",
       "    <tr>\n",
       "      <th>3</th>\n",
       "      <td>72.146935</td>\n",
       "      <td>72.753816</td>\n",
       "      <td>71.926907</td>\n",
       "      <td>72.497522</td>\n",
       "      <td>108872000</td>\n",
       "      <td>2020-01-07</td>\n",
       "    </tr>\n",
       "    <tr>\n",
       "      <th>4</th>\n",
       "      <td>73.307510</td>\n",
       "      <td>73.609745</td>\n",
       "      <td>71.849533</td>\n",
       "      <td>71.849533</td>\n",
       "      <td>132079200</td>\n",
       "      <td>2020-01-08</td>\n",
       "    </tr>\n",
       "    <tr>\n",
       "      <th>...</th>\n",
       "      <td>...</td>\n",
       "      <td>...</td>\n",
       "      <td>...</td>\n",
       "      <td>...</td>\n",
       "      <td>...</td>\n",
       "      <td>...</td>\n",
       "    </tr>\n",
       "    <tr>\n",
       "      <th>751</th>\n",
       "      <td>130.173798</td>\n",
       "      <td>130.726634</td>\n",
       "      <td>127.982185</td>\n",
       "      <td>129.245816</td>\n",
       "      <td>63814900</td>\n",
       "      <td>2022-12-23</td>\n",
       "    </tr>\n",
       "    <tr>\n",
       "      <th>752</th>\n",
       "      <td>128.367172</td>\n",
       "      <td>129.729530</td>\n",
       "      <td>127.073927</td>\n",
       "      <td>129.699914</td>\n",
       "      <td>69007800</td>\n",
       "      <td>2022-12-27</td>\n",
       "    </tr>\n",
       "    <tr>\n",
       "      <th>753</th>\n",
       "      <td>124.428207</td>\n",
       "      <td>129.354393</td>\n",
       "      <td>124.260383</td>\n",
       "      <td>128.011784</td>\n",
       "      <td>85438400</td>\n",
       "      <td>2022-12-28</td>\n",
       "    </tr>\n",
       "    <tr>\n",
       "      <th>754</th>\n",
       "      <td>127.952568</td>\n",
       "      <td>128.811438</td>\n",
       "      <td>126.096612</td>\n",
       "      <td>126.353282</td>\n",
       "      <td>75703700</td>\n",
       "      <td>2022-12-29</td>\n",
       "    </tr>\n",
       "    <tr>\n",
       "      <th>755</th>\n",
       "      <td>128.268448</td>\n",
       "      <td>128.288196</td>\n",
       "      <td>125.800425</td>\n",
       "      <td>126.767896</td>\n",
       "      <td>77034200</td>\n",
       "      <td>2022-12-30</td>\n",
       "    </tr>\n",
       "  </tbody>\n",
       "</table>\n",
       "<p>756 rows × 6 columns</p>\n",
       "</div>"
      ],
      "text/plain": [
       "          Close        High         Low        Open     Volume        Date\n",
       "0     72.620850   72.681296   71.373226   71.627100  135480400  2020-01-02\n",
       "1     71.914818   72.676447   71.689957   71.847118  146322800  2020-01-03\n",
       "2     72.487854   72.526541   70.783256   71.034717  118387200  2020-01-06\n",
       "3     72.146935   72.753816   71.926907   72.497522  108872000  2020-01-07\n",
       "4     73.307510   73.609745   71.849533   71.849533  132079200  2020-01-08\n",
       "..          ...         ...         ...         ...        ...         ...\n",
       "751  130.173798  130.726634  127.982185  129.245816   63814900  2022-12-23\n",
       "752  128.367172  129.729530  127.073927  129.699914   69007800  2022-12-27\n",
       "753  124.428207  129.354393  124.260383  128.011784   85438400  2022-12-28\n",
       "754  127.952568  128.811438  126.096612  126.353282   75703700  2022-12-29\n",
       "755  128.268448  128.288196  125.800425  126.767896   77034200  2022-12-30\n",
       "\n",
       "[756 rows x 6 columns]"
      ]
     },
     "execution_count": 51,
     "metadata": {},
     "output_type": "execute_result"
    }
   ],
   "source": [
    "# drop index column\n",
    "df_copy.reset_index(drop=True, inplace=True)"
   ]
  },
  {
   "cell_type": "code",
   "execution_count": 4,
   "id": "cf2a7de6",
   "metadata": {},
   "outputs": [
    {
     "data": {
      "text/plain": [
       "Index(['Date', 'Close', 'High', 'Low', 'Open', 'Volume'], dtype='object')"
      ]
     },
     "execution_count": 4,
     "metadata": {},
     "output_type": "execute_result"
    }
   ],
   "source": [
    "df.columns"
   ]
  },
  {
   "cell_type": "code",
   "execution_count": 5,
   "id": "2ec21647",
   "metadata": {},
   "outputs": [
    {
     "data": {
      "text/plain": [
       "0       2015-10-21\n",
       "1       2015-10-22\n",
       "2       2015-10-23\n",
       "3       2015-10-26\n",
       "4       2015-10-27\n",
       "           ...    \n",
       "2414    2025-05-29\n",
       "2415    2025-05-30\n",
       "2416    2025-06-02\n",
       "2417    2025-06-03\n",
       "2418    2025-06-04\n",
       "Name: Date, Length: 2419, dtype: object"
      ]
     },
     "execution_count": 5,
     "metadata": {},
     "output_type": "execute_result"
    }
   ],
   "source": [
    "df['Date']"
   ]
  },
  {
   "cell_type": "code",
   "execution_count": null,
   "id": "12591b1e",
   "metadata": {},
   "outputs": [],
   "source": []
  }
 ],
 "metadata": {
  "kernelspec": {
   "display_name": "venv",
   "language": "python",
   "name": "python3"
  },
  "language_info": {
   "codemirror_mode": {
    "name": "ipython",
    "version": 3
   },
   "file_extension": ".py",
   "mimetype": "text/x-python",
   "name": "python",
   "nbconvert_exporter": "python",
   "pygments_lexer": "ipython3",
   "version": "3.12.3"
  }
 },
 "nbformat": 4,
 "nbformat_minor": 5
}
